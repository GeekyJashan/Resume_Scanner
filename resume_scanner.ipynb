{
 "cells": [
  {
   "cell_type": "code",
   "execution_count": 1,
   "metadata": {},
   "outputs": [],
   "source": [
    "import docx2txt"
   ]
  },
  {
   "cell_type": "code",
   "execution_count": 9,
   "metadata": {},
   "outputs": [],
   "source": [
    "job_description=docx2txt.process(\"D:\\\\PROJECTs\\\\project(NLP)\\\\resume_scanner\\\\Job_description_dataset.docx\")\n",
    "resume=docx2txt.process(\"D:\\\\PROJECTs\\\\project(NLP)\\\\resume_scanner\\\\JashanSehgal__Resume.docx\")\n",
    "\n",
    "\n"
   ]
  },
  {
   "cell_type": "code",
   "execution_count": 11,
   "metadata": {},
   "outputs": [
    {
     "name": "stdout",
     "output_type": "stream",
     "text": [
      "Job brief\n",
      "\n",
      "\t\t\t\t\t\t\t\t\t\t\t\t\t\t\t\t\n",
      "\n",
      "\t\t\t\t\t\t\t\t\t\t\t\t\t\t\t\tWe are looking for a Senior Web Developer to build and maintain functional web pages and applications.\n",
      "\n",
      "\t\t\t\t\t\t\t\t\t\t\t\t\t\t\t\t\n",
      "\n",
      "\t\t\t\t\t\t\t\t\t\t\t\t\t\t\t\t\n",
      "\n",
      "\t\t\t\t\t\t\t\t\t\t\t\t\t\t\t\t\n",
      "\n",
      "\t\t\t\t\t\t\t\t\t\t\t\t\t\t\t\tSenior Web Developer responsibilities include leading a team of junior developers, refining website specifications and resolving technical issues. To be successful in this role, you should have extensive experience building web pages from scratch and in-depth knowledge of at least one of the following programming languages: Javascript, Ruby or PHP.\n",
      "\n",
      "\t\t\t\t\t\t\t\t\t\t\t\t\t\t\t\t\n",
      "\n",
      "\t\t\t\t\t\t\t\t\t\t\t\t\t\t\t\t\n",
      "\n",
      "\t\t\t\t\t\t\t\t\t\t\t\t\t\t\t\t\n",
      "\n",
      "\t\t\t\t\t\t\t\t\t\t\t\t\t\t\t\tUltimately, you will ensure our web pages are up and running and cover both internal and customer needs.\n",
      "\n",
      "\t\t\t\t\t\t\t\t\t\t\t\t\t\t\t\t\n",
      "\n",
      "\t\t\t\t\t\t\t\t\t\t\t\t\t\t\t\t\n",
      "\n",
      "\t\t\t\t\t\t\t\t\t\t\t\t\t\t\t\t\n",
      "\n",
      "\t\t\t\t\t\t\t\t\t\t\t\t\t\t\t\tResponsibilities\n",
      "\n",
      "\t\t\t\t\t\t\t\t\t\t\t\t\t\t\t\t\n",
      "\n",
      "\t\t\t\t\t\t\t\t\t\t\t\t\t\t\t\tIdentify user and system requirements for new websites and applications\n",
      "\n",
      "\t\t\t\t\t\t\t\t\t\t\t\t\t\t\t\t\n",
      "\n",
      "\t\t\t\t\t\t\t\t\t\t\t\t\t\t\t\tPrioritize software development projects, set timelines and assign tasks to team members\n",
      "\n",
      "\t\t\t\t\t\t\t\t\t\t\t\t\t\t\t\t\n",
      "\n",
      "\t\t\t\t\t\t\t\t\t\t\t\t\t\t\t\tCreate wireframes to decide on layout\n",
      "\n",
      "\t\t\t\t\t\t\t\t\t\t\t\t\t\t\t\t\n",
      "\n",
      "\t\t\t\t\t\t\t\t\t\t\t\t\t\t\t\tWrite or review code for various applications\n",
      "\n",
      "\t\t\t\t\t\t\t\t\t\t\t\t\t\t\t\t\n",
      "\n",
      "\t\t\t\t\t\t\t\t\t\t\t\t\t\t\t\tRun functionality testings and debug code\n",
      "\n",
      "\t\t\t\t\t\t\t\t\t\t\t\t\t\t\t\t\n",
      "\n",
      "\t\t\t\t\t\t\t\t\t\t\t\t\t\t\t\tOversee junior web developers and evaluate their performance\n",
      "\n",
      "\t\t\t\t\t\t\t\t\t\t\t\t\t\t\t\t\n",
      "\n",
      "\t\t\t\t\t\t\t\t\t\t\t\t\t\t\t\tLiaise with designers to decide on UI/UX elements (like graphics and navigation buttons)\n",
      "\n",
      "\t\t\t\t\t\t\t\t\t\t\t\t\t\t\t\t\n",
      "\n",
      "\t\t\t\t\t\t\t\t\t\t\t\t\t\t\t\tEnsure our software documentation is up-to-date\n",
      "\n",
      "\t\t\t\t\t\t\t\t\t\t\t\t\t\t\t\t\n",
      "\n",
      "\t\t\t\t\t\t\t\t\t\t\t\t\t\t\t\tCollaborate with mobile developers to build mobile-responsive websites\n",
      "\n",
      "\t\t\t\t\t\t\t\t\t\t\t\t\t\t\t\t\n",
      "\n",
      "\t\t\t\t\t\t\t\t\t\t\t\t\t\t\t\tRequirements\n",
      "\n",
      "\t\t\t\t\t\t\t\t\t\t\t\t\t\t\t\t\n",
      "\n",
      "\t\t\t\t\t\t\t\t\t\t\t\t\t\t\t\tWork experience as a Senior Web Developer\n",
      "\n",
      "\t\t\t\t\t\t\t\t\t\t\t\t\t\t\t\t\n",
      "\n",
      "\t\t\t\t\t\t\t\t\t\t\t\t\t\t\t\tExpertise in at least one programming language, preferably Javascript, Ruby or PHP\n",
      "\n",
      "\t\t\t\t\t\t\t\t\t\t\t\t\t\t\t\t\n",
      "\n",
      "\t\t\t\t\t\t\t\t\t\t\t\t\t\t\t\tSolid knowledge of HTML/CSS\n",
      "\n",
      "\t\t\t\t\t\t\t\t\t\t\t\t\t\t\t\t\n",
      "\n",
      "\t\t\t\t\t\t\t\t\t\t\t\t\t\t\t\tExperience with mockup and UI prototyping tools\n",
      "\n",
      "\t\t\t\t\t\t\t\t\t\t\t\t\t\t\t\t\n",
      "\n",
      "\t\t\t\t\t\t\t\t\t\t\t\t\t\t\t\tUnderstanding of security practices\n",
      "\n",
      "\t\t\t\t\t\t\t\t\t\t\t\t\t\t\t\t\n",
      "\n",
      "\t\t\t\t\t\t\t\t\t\t\t\t\t\t\t\tFamiliarity with network diagnostics tools\n",
      "\n",
      "\t\t\t\t\t\t\t\t\t\t\t\t\t\t\t\t\n",
      "\n",
      "\t\t\t\t\t\t\t\t\t\t\t\t\t\t\t\tTeam management skills\n",
      "\n",
      "\t\t\t\t\t\t\t\t\t\t\t\t\t\t\t\t\n",
      "\n",
      "\t\t\t\t\t\t\t\t\t\t\t\t\t\t\t\tBSc/MSc in Computer Science or relevant field\n"
     ]
    }
   ],
   "source": [
    "\n",
    "print(job_description)"
   ]
  },
  {
   "cell_type": "code",
   "execution_count": 12,
   "metadata": {},
   "outputs": [],
   "source": [
    "\n",
    "content = [job_description, resume]"
   ]
  },
  {
   "cell_type": "code",
   "execution_count": 13,
   "metadata": {},
   "outputs": [
    {
     "name": "stdout",
     "output_type": "stream",
     "text": [
      "[[1.         0.43666809]\n",
      " [0.43666809 1.        ]]\n"
     ]
    }
   ],
   "source": [
    "from sklearn.feature_extraction.text import CountVectorizer\n",
    "cv = CountVectorizer()\n",
    "#fit this list into this count vectorizer\n",
    "count_matrix = cv.fit_transform(content)\n",
    "#hence converted our text into vector#\n",
    "\n",
    "from sklearn.metrics.pairwise import cosine_similarity\n",
    "mat = cosine_similarity(count_matrix)\n",
    "print(mat)"
   ]
  },
  {
   "cell_type": "code",
   "execution_count": 14,
   "metadata": {},
   "outputs": [
    {
     "name": "stdout",
     "output_type": "stream",
     "text": [
      "Resume Matches by: 43.666809309791994%\n"
     ]
    }
   ],
   "source": [
    "print('Resume Matches by: '+  str(mat[1][0]*100) + '%')"
   ]
  },
  {
   "cell_type": "code",
   "execution_count": 15,
   "metadata": {},
   "outputs": [],
   "source": [
    "job_description=docx2txt.process(\"D:\\\\PROJECTs\\\\project(NLP)\\\\resume_scanner\\\\Job_description_dataset.docx\")\n",
    "resume=docx2txt.process(\"D:\\\\PROJECTs\\\\project(NLP)\\\\resume_scanner\\\\JashanSehgal__Resume(2).docx\")\n"
   ]
  },
  {
   "cell_type": "code",
   "execution_count": 16,
   "metadata": {},
   "outputs": [],
   "source": [
    "content = [job_description, resume]"
   ]
  },
  {
   "cell_type": "code",
   "execution_count": 17,
   "metadata": {},
   "outputs": [
    {
     "name": "stdout",
     "output_type": "stream",
     "text": [
      "[[1.         0.44918649]\n",
      " [0.44918649 1.        ]]\n"
     ]
    }
   ],
   "source": [
    "from sklearn.feature_extraction.text import CountVectorizer\n",
    "cv = CountVectorizer()\n",
    "#fit this list into this count vectorizer\n",
    "count_matrix = cv.fit_transform(content)\n",
    "#hence converted our text into vector#\n",
    "\n",
    "from sklearn.metrics.pairwise import cosine_similarity\n",
    "mat = cosine_similarity(count_matrix)\n",
    "print(mat)"
   ]
  },
  {
   "cell_type": "code",
   "execution_count": 18,
   "metadata": {},
   "outputs": [
    {
     "name": "stdout",
     "output_type": "stream",
     "text": [
      "Resume Matches by: 44.91864917441284%\n"
     ]
    }
   ],
   "source": [
    "print('Resume Matches by: '+  str(mat[1][0]*100) + '%')"
   ]
  },
  {
   "cell_type": "code",
   "execution_count": null,
   "metadata": {},
   "outputs": [],
   "source": []
  }
 ],
 "metadata": {
  "kernelspec": {
   "display_name": "Python 3",
   "language": "python",
   "name": "python3"
  },
  "language_info": {
   "codemirror_mode": {
    "name": "ipython",
    "version": 3
   },
   "file_extension": ".py",
   "mimetype": "text/x-python",
   "name": "python",
   "nbconvert_exporter": "python",
   "pygments_lexer": "ipython3",
   "version": "3.10.0"
  },
  "orig_nbformat": 4,
  "vscode": {
   "interpreter": {
    "hash": "7ae9dc20c62cf8a361bf0703b1469e9a349d77cffa82faa210b9227f91fc9cf6"
   }
  }
 },
 "nbformat": 4,
 "nbformat_minor": 2
}
